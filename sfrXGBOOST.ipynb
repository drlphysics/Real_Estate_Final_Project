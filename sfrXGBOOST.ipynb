{
  "cells": [
    {
      "cell_type": "code",
      "execution_count": 33,
      "metadata": {
        "id": "GMPGv3PriR3o"
      },
      "outputs": [],
      "source": [
        "#import pandas and read in csv\n",
        "import pandas as pd"
      ]
    },
    {
      "cell_type": "code",
      "execution_count": 34,
      "metadata": {
        "colab": {
          "base_uri": "https://localhost:8080/",
          "height": 273
        },
        "id": "BZCGOqFViu0T",
        "outputId": "dbd77e81-2c80-4820-bc96-b5086958017b"
      },
      "outputs": [
        {
          "data": {
            "text/html": [
              "<div>\n",
              "<style scoped>\n",
              "    .dataframe tbody tr th:only-of-type {\n",
              "        vertical-align: middle;\n",
              "    }\n",
              "\n",
              "    .dataframe tbody tr th {\n",
              "        vertical-align: top;\n",
              "    }\n",
              "\n",
              "    .dataframe thead th {\n",
              "        text-align: right;\n",
              "    }\n",
              "</style>\n",
              "<table border=\"1\" class=\"dataframe\">\n",
              "  <thead>\n",
              "    <tr style=\"text-align: right;\">\n",
              "      <th></th>\n",
              "      <th>Bedrooms</th>\n",
              "      <th>Total Baths</th>\n",
              "      <th>SqFt</th>\n",
              "      <th>Acres</th>\n",
              "      <th>Sold Price</th>\n",
              "      <th>Lat</th>\n",
              "      <th>Lon</th>\n",
              "      <th>List Year</th>\n",
              "      <th>List Month</th>\n",
              "      <th>Age of Property</th>\n",
              "      <th>...</th>\n",
              "      <th>City_Raleigh</th>\n",
              "      <th>City_Rocky Mount</th>\n",
              "      <th>City_Sanford</th>\n",
              "      <th>City_Selma</th>\n",
              "      <th>City_Smithfield</th>\n",
              "      <th>City_Wake Forest</th>\n",
              "      <th>City_Wendell</th>\n",
              "      <th>City_Willow Springs</th>\n",
              "      <th>City_Youngsville</th>\n",
              "      <th>City_Zebulon</th>\n",
              "    </tr>\n",
              "  </thead>\n",
              "  <tbody>\n",
              "    <tr>\n",
              "      <th>0</th>\n",
              "      <td>3</td>\n",
              "      <td>1</td>\n",
              "      <td>-1.302081</td>\n",
              "      <td>-0.232717</td>\n",
              "      <td>52500</td>\n",
              "      <td>-2.202765</td>\n",
              "      <td>0.600950</td>\n",
              "      <td>0</td>\n",
              "      <td>10</td>\n",
              "      <td>1.327269</td>\n",
              "      <td>...</td>\n",
              "      <td>0.0</td>\n",
              "      <td>0.0</td>\n",
              "      <td>0.0</td>\n",
              "      <td>0.0</td>\n",
              "      <td>0.0</td>\n",
              "      <td>0.0</td>\n",
              "      <td>0.0</td>\n",
              "      <td>0.0</td>\n",
              "      <td>0.0</td>\n",
              "      <td>0.0</td>\n",
              "    </tr>\n",
              "    <tr>\n",
              "      <th>1</th>\n",
              "      <td>3</td>\n",
              "      <td>1</td>\n",
              "      <td>-1.400959</td>\n",
              "      <td>-0.232717</td>\n",
              "      <td>54000</td>\n",
              "      <td>-1.642389</td>\n",
              "      <td>1.270163</td>\n",
              "      <td>1</td>\n",
              "      <td>2</td>\n",
              "      <td>2.082522</td>\n",
              "      <td>...</td>\n",
              "      <td>0.0</td>\n",
              "      <td>0.0</td>\n",
              "      <td>0.0</td>\n",
              "      <td>0.0</td>\n",
              "      <td>1.0</td>\n",
              "      <td>0.0</td>\n",
              "      <td>0.0</td>\n",
              "      <td>0.0</td>\n",
              "      <td>0.0</td>\n",
              "      <td>0.0</td>\n",
              "    </tr>\n",
              "    <tr>\n",
              "      <th>2</th>\n",
              "      <td>3</td>\n",
              "      <td>2</td>\n",
              "      <td>-1.032145</td>\n",
              "      <td>-0.232717</td>\n",
              "      <td>57500</td>\n",
              "      <td>0.624117</td>\n",
              "      <td>3.037617</td>\n",
              "      <td>0</td>\n",
              "      <td>12</td>\n",
              "      <td>1.579020</td>\n",
              "      <td>...</td>\n",
              "      <td>0.0</td>\n",
              "      <td>1.0</td>\n",
              "      <td>0.0</td>\n",
              "      <td>0.0</td>\n",
              "      <td>0.0</td>\n",
              "      <td>0.0</td>\n",
              "      <td>0.0</td>\n",
              "      <td>0.0</td>\n",
              "      <td>0.0</td>\n",
              "      <td>0.0</td>\n",
              "    </tr>\n",
              "    <tr>\n",
              "      <th>3</th>\n",
              "      <td>2</td>\n",
              "      <td>1</td>\n",
              "      <td>-1.445454</td>\n",
              "      <td>-0.232717</td>\n",
              "      <td>60000</td>\n",
              "      <td>1.738347</td>\n",
              "      <td>-2.394659</td>\n",
              "      <td>1</td>\n",
              "      <td>2</td>\n",
              "      <td>2.502106</td>\n",
              "      <td>...</td>\n",
              "      <td>0.0</td>\n",
              "      <td>0.0</td>\n",
              "      <td>0.0</td>\n",
              "      <td>0.0</td>\n",
              "      <td>0.0</td>\n",
              "      <td>0.0</td>\n",
              "      <td>0.0</td>\n",
              "      <td>0.0</td>\n",
              "      <td>0.0</td>\n",
              "      <td>0.0</td>\n",
              "    </tr>\n",
              "    <tr>\n",
              "      <th>4</th>\n",
              "      <td>3</td>\n",
              "      <td>1</td>\n",
              "      <td>-1.332733</td>\n",
              "      <td>-0.232717</td>\n",
              "      <td>62000</td>\n",
              "      <td>-1.843494</td>\n",
              "      <td>-1.568652</td>\n",
              "      <td>1</td>\n",
              "      <td>3</td>\n",
              "      <td>2.166439</td>\n",
              "      <td>...</td>\n",
              "      <td>0.0</td>\n",
              "      <td>0.0</td>\n",
              "      <td>1.0</td>\n",
              "      <td>0.0</td>\n",
              "      <td>0.0</td>\n",
              "      <td>0.0</td>\n",
              "      <td>0.0</td>\n",
              "      <td>0.0</td>\n",
              "      <td>0.0</td>\n",
              "      <td>0.0</td>\n",
              "    </tr>\n",
              "  </tbody>\n",
              "</table>\n",
              "<p>5 rows × 39 columns</p>\n",
              "</div>"
            ],
            "text/plain": [
              "   Bedrooms  Total Baths      SqFt     Acres  Sold Price       Lat       Lon  \\\n",
              "0         3            1 -1.302081 -0.232717       52500 -2.202765  0.600950   \n",
              "1         3            1 -1.400959 -0.232717       54000 -1.642389  1.270163   \n",
              "2         3            2 -1.032145 -0.232717       57500  0.624117  3.037617   \n",
              "3         2            1 -1.445454 -0.232717       60000  1.738347 -2.394659   \n",
              "4         3            1 -1.332733 -0.232717       62000 -1.843494 -1.568652   \n",
              "\n",
              "   List Year  List Month  Age of Property  ...  City_Raleigh  \\\n",
              "0          0          10         1.327269  ...           0.0   \n",
              "1          1           2         2.082522  ...           0.0   \n",
              "2          0          12         1.579020  ...           0.0   \n",
              "3          1           2         2.502106  ...           0.0   \n",
              "4          1           3         2.166439  ...           0.0   \n",
              "\n",
              "   City_Rocky Mount  City_Sanford  City_Selma  City_Smithfield  \\\n",
              "0               0.0           0.0         0.0              0.0   \n",
              "1               0.0           0.0         0.0              1.0   \n",
              "2               1.0           0.0         0.0              0.0   \n",
              "3               0.0           0.0         0.0              0.0   \n",
              "4               0.0           1.0         0.0              0.0   \n",
              "\n",
              "   City_Wake Forest  City_Wendell  City_Willow Springs  City_Youngsville  \\\n",
              "0               0.0           0.0                  0.0               0.0   \n",
              "1               0.0           0.0                  0.0               0.0   \n",
              "2               0.0           0.0                  0.0               0.0   \n",
              "3               0.0           0.0                  0.0               0.0   \n",
              "4               0.0           0.0                  0.0               0.0   \n",
              "\n",
              "   City_Zebulon  \n",
              "0           0.0  \n",
              "1           0.0  \n",
              "2           0.0  \n",
              "3           0.0  \n",
              "4           0.0  \n",
              "\n",
              "[5 rows x 39 columns]"
            ]
          },
          "execution_count": 34,
          "metadata": {},
          "output_type": "execute_result"
        }
      ],
      "source": [
        "sfr_df = pd.read_csv(\"Clean_Data/sfr_cleaned_only_important_columns.csv\")\n",
        "sfr_df.head()\n"
      ]
    },
    {
      "cell_type": "code",
      "execution_count": null,
      "metadata": {
        "colab": {
          "base_uri": "https://localhost:8080/"
        },
        "id": "FdokCd_8CO3R",
        "outputId": "cbb1de2c-e640-4430-df7e-9ca056b7fe48"
      },
      "outputs": [
        {
          "name": "stdout",
          "output_type": "stream",
          "text": [
            "<class 'pandas.core.frame.DataFrame'>\n",
            "RangeIndex: 84994 entries, 0 to 84993\n",
            "Data columns (total 39 columns):\n",
            " #   Column               Non-Null Count  Dtype  \n",
            "---  ------               --------------  -----  \n",
            " 0   Bedrooms             84994 non-null  int64  \n",
            " 1   Total Baths          84994 non-null  int64  \n",
            " 2   SqFt                 84994 non-null  float64\n",
            " 3   Acres                84994 non-null  float64\n",
            " 4   Sold Price           84994 non-null  int64  \n",
            " 5   Lat                  84994 non-null  float64\n",
            " 6   Lon                  84994 non-null  float64\n",
            " 7   List Year            84994 non-null  int64  \n",
            " 8   List Month           84994 non-null  int64  \n",
            " 9   Age of Property      84994 non-null  float64\n",
            " 10  Rate                 84994 non-null  float64\n",
            " 11  City_Angier          84994 non-null  float64\n",
            " 12  City_Apex            84994 non-null  float64\n",
            " 13  City_Benson          84994 non-null  float64\n",
            " 14  City_Burlington      84994 non-null  float64\n",
            " 15  City_Cary            84994 non-null  float64\n",
            " 16  City_Chapel Hill     84994 non-null  float64\n",
            " 17  City_Clayton         84994 non-null  float64\n",
            " 18  City_Durham          84994 non-null  float64\n",
            " 19  City_Franklinton     84994 non-null  float64\n",
            " 20  City_Fuquay Varina   84994 non-null  float64\n",
            " 21  City_Garner          84994 non-null  float64\n",
            " 22  City_Graham          84994 non-null  float64\n",
            " 23  City_Hillsborough    84994 non-null  float64\n",
            " 24  City_Holly Springs   84994 non-null  float64\n",
            " 25  City_Knightdale      84994 non-null  float64\n",
            " 26  City_Louisburg       84994 non-null  float64\n",
            " 27  City_Mebane          84994 non-null  float64\n",
            " 28  City_Pittsboro       84994 non-null  float64\n",
            " 29  City_Raleigh         84994 non-null  float64\n",
            " 30  City_Rocky Mount     84994 non-null  float64\n",
            " 31  City_Sanford         84994 non-null  float64\n",
            " 32  City_Selma           84994 non-null  float64\n",
            " 33  City_Smithfield      84994 non-null  float64\n",
            " 34  City_Wake Forest     84994 non-null  float64\n",
            " 35  City_Wendell         84994 non-null  float64\n",
            " 36  City_Willow Springs  84994 non-null  float64\n",
            " 37  City_Youngsville     84994 non-null  float64\n",
            " 38  City_Zebulon         84994 non-null  float64\n",
            "dtypes: float64(34), int64(5)\n",
            "memory usage: 25.3 MB\n"
          ]
        }
      ],
      "source": [
        "sfr_df.describe()"
      ]
    },
    {
      "cell_type": "code",
      "execution_count": 36,
      "metadata": {
        "colab": {
          "base_uri": "https://localhost:8080/",
          "height": 1000
        },
        "id": "AiQloTQgCO3T",
        "outputId": "aa421172-e678-48a1-da32-ec01e62df2a2"
      },
      "outputs": [
        {
          "data": {
            "text/plain": [
              "Sold Price             1.000000\n",
              "SqFt                   0.753631\n",
              "Total Baths            0.627843\n",
              "Bedrooms               0.473643\n",
              "City_Cary              0.199800\n",
              "City_Chapel Hill       0.188204\n",
              "Rate                   0.184828\n",
              "List Year              0.181804\n",
              "City_Apex              0.175544\n",
              "City_Wake Forest       0.116038\n",
              "City_Holly Springs     0.112644\n",
              "Acres                  0.099003\n",
              "City_Pittsboro         0.090715\n",
              "City_Raleigh           0.089445\n",
              "Lat                    0.046601\n",
              "City_Hillsborough      0.016862\n",
              "City_Fuquay Varina     0.011835\n",
              "City_Willow Springs   -0.029266\n",
              "City_Youngsville      -0.033450\n",
              "City_Durham           -0.039828\n",
              "City_Knightdale       -0.046590\n",
              "City_Wendell          -0.046902\n",
              "List Month            -0.050765\n",
              "City_Mebane           -0.057652\n",
              "City_Garner           -0.058321\n",
              "City_Franklinton      -0.066215\n",
              "City_Angier           -0.077716\n",
              "City_Louisburg        -0.081083\n",
              "City_Benson           -0.082751\n",
              "City_Graham           -0.083013\n",
              "City_Zebulon          -0.087088\n",
              "City_Selma            -0.087899\n",
              "City_Clayton          -0.101258\n",
              "City_Smithfield       -0.102624\n",
              "City_Sanford          -0.113896\n",
              "City_Rocky Mount      -0.121492\n",
              "City_Burlington       -0.136437\n",
              "Lon                   -0.139093\n",
              "Age of Property       -0.213567\n",
              "Name: Sold Price, dtype: float64"
            ]
          },
          "execution_count": 36,
          "metadata": {},
          "output_type": "execute_result"
        }
      ],
      "source": [
        "corr_matrix = sfr_df.corr()\n",
        "corr_matrix[\"Sold Price\"].sort_values(ascending=False)"
      ]
    },
    {
      "cell_type": "code",
      "execution_count": 37,
      "metadata": {
        "colab": {
          "base_uri": "https://localhost:8080/",
          "height": 490
        },
        "id": "zMf3GmmsCO3W",
        "outputId": "0fabc5b7-48be-45e1-90e9-0481af745b67"
      },
      "outputs": [
        {
          "data": {
            "text/plain": [
              "Sold Price\n",
              "350000     1008\n",
              "400000      974\n",
              "450000      894\n",
              "300000      826\n",
              "375000      788\n",
              "           ... \n",
              "1006000       1\n",
              "108500        1\n",
              "1033500       1\n",
              "1056500       1\n",
              "1107500       1\n",
              "Name: count, Length: 1947, dtype: int64"
            ]
          },
          "execution_count": 37,
          "metadata": {},
          "output_type": "execute_result"
        }
      ],
      "source": [
        "sfr_df['Sold Price'].value_counts()"
      ]
    },
    {
      "cell_type": "code",
      "execution_count": 38,
      "metadata": {
        "id": "-Z_1jiW2J-gG"
      },
      "outputs": [],
      "source": [
        "#identifying our x and y variables and splitting the data\n",
        "from sklearn.model_selection import train_test_split\n",
        "\n",
        "X = sfr_df.drop(columns='Sold Price')\n",
        "y = sfr_df['Sold Price']\n",
        "\n",
        "X_train, X_test, y_train, y_test = train_test_split(X, y, test_size=0.2, random_state=8)"
      ]
    },
    {
      "cell_type": "code",
      "execution_count": 39,
      "metadata": {
        "colab": {
          "base_uri": "https://localhost:8080/"
        },
        "id": "kVPntzjdNUEk",
        "outputId": "214d06b3-1a6a-4970-97a4-14944108dec3"
      },
      "outputs": [
        {
          "name": "stdout",
          "output_type": "stream",
          "text": [
            "Requirement already satisfied: category_encoders in c:\\users\\david\\anaconda3\\envs\\dev\\lib\\site-packages (2.6.3)\n",
            "Requirement already satisfied: numpy>=1.14.0 in c:\\users\\david\\anaconda3\\envs\\dev\\lib\\site-packages (from category_encoders) (1.26.4)\n",
            "Requirement already satisfied: scikit-learn>=0.20.0 in c:\\users\\david\\anaconda3\\envs\\dev\\lib\\site-packages (from category_encoders) (1.3.0)\n",
            "Requirement already satisfied: scipy>=1.0.0 in c:\\users\\david\\anaconda3\\envs\\dev\\lib\\site-packages (from category_encoders) (1.11.4)\n",
            "Requirement already satisfied: statsmodels>=0.9.0 in c:\\users\\david\\anaconda3\\envs\\dev\\lib\\site-packages (from category_encoders) (0.14.0)\n",
            "Requirement already satisfied: pandas>=1.0.5 in c:\\users\\david\\anaconda3\\envs\\dev\\lib\\site-packages (from category_encoders) (2.1.4)\n",
            "Requirement already satisfied: patsy>=0.5.1 in c:\\users\\david\\anaconda3\\envs\\dev\\lib\\site-packages (from category_encoders) (0.5.3)\n",
            "Requirement already satisfied: python-dateutil>=2.8.2 in c:\\users\\david\\anaconda3\\envs\\dev\\lib\\site-packages (from pandas>=1.0.5->category_encoders) (2.8.2)\n",
            "Requirement already satisfied: pytz>=2020.1 in c:\\users\\david\\anaconda3\\envs\\dev\\lib\\site-packages (from pandas>=1.0.5->category_encoders) (2023.3.post1)\n",
            "Requirement already satisfied: tzdata>=2022.1 in c:\\users\\david\\anaconda3\\envs\\dev\\lib\\site-packages (from pandas>=1.0.5->category_encoders) (2023.3)\n",
            "Requirement already satisfied: six in c:\\users\\david\\anaconda3\\envs\\dev\\lib\\site-packages (from patsy>=0.5.1->category_encoders) (1.16.0)\n",
            "Requirement already satisfied: joblib>=1.1.1 in c:\\users\\david\\anaconda3\\envs\\dev\\lib\\site-packages (from scikit-learn>=0.20.0->category_encoders) (1.2.0)\n",
            "Requirement already satisfied: threadpoolctl>=2.0.0 in c:\\users\\david\\anaconda3\\envs\\dev\\lib\\site-packages (from scikit-learn>=0.20.0->category_encoders) (2.2.0)\n",
            "Requirement already satisfied: packaging>=21.3 in c:\\users\\david\\anaconda3\\envs\\dev\\lib\\site-packages (from statsmodels>=0.9.0->category_encoders) (23.1)\n",
            "Requirement already satisfied: xgboost in c:\\users\\david\\anaconda3\\envs\\dev\\lib\\site-packages (2.1.1)\n",
            "Requirement already satisfied: numpy in c:\\users\\david\\anaconda3\\envs\\dev\\lib\\site-packages (from xgboost) (1.26.4)\n",
            "Requirement already satisfied: scipy in c:\\users\\david\\anaconda3\\envs\\dev\\lib\\site-packages (from xgboost) (1.11.4)\n"
          ]
        }
      ],
      "source": [
        "!pip install category_encoders\n",
        "!pip install xgboost"
      ]
    },
    {
      "cell_type": "code",
      "execution_count": 40,
      "metadata": {
        "colab": {
          "base_uri": "https://localhost:8080/",
          "height": 92
        },
        "id": "-G2GQN4iLq5F",
        "outputId": "e8035b75-96bb-4c7c-9698-619f57bc6076"
      },
      "outputs": [
        {
          "data": {
            "text/html": [
              "<style>#sk-container-id-7 {color: black;}#sk-container-id-7 pre{padding: 0;}#sk-container-id-7 div.sk-toggleable {background-color: white;}#sk-container-id-7 label.sk-toggleable__label {cursor: pointer;display: block;width: 100%;margin-bottom: 0;padding: 0.3em;box-sizing: border-box;text-align: center;}#sk-container-id-7 label.sk-toggleable__label-arrow:before {content: \"▸\";float: left;margin-right: 0.25em;color: #696969;}#sk-container-id-7 label.sk-toggleable__label-arrow:hover:before {color: black;}#sk-container-id-7 div.sk-estimator:hover label.sk-toggleable__label-arrow:before {color: black;}#sk-container-id-7 div.sk-toggleable__content {max-height: 0;max-width: 0;overflow: hidden;text-align: left;background-color: #f0f8ff;}#sk-container-id-7 div.sk-toggleable__content pre {margin: 0.2em;color: black;border-radius: 0.25em;background-color: #f0f8ff;}#sk-container-id-7 input.sk-toggleable__control:checked~div.sk-toggleable__content {max-height: 200px;max-width: 100%;overflow: auto;}#sk-container-id-7 input.sk-toggleable__control:checked~label.sk-toggleable__label-arrow:before {content: \"▾\";}#sk-container-id-7 div.sk-estimator input.sk-toggleable__control:checked~label.sk-toggleable__label {background-color: #d4ebff;}#sk-container-id-7 div.sk-label input.sk-toggleable__control:checked~label.sk-toggleable__label {background-color: #d4ebff;}#sk-container-id-7 input.sk-hidden--visually {border: 0;clip: rect(1px 1px 1px 1px);clip: rect(1px, 1px, 1px, 1px);height: 1px;margin: -1px;overflow: hidden;padding: 0;position: absolute;width: 1px;}#sk-container-id-7 div.sk-estimator {font-family: monospace;background-color: #f0f8ff;border: 1px dotted black;border-radius: 0.25em;box-sizing: border-box;margin-bottom: 0.5em;}#sk-container-id-7 div.sk-estimator:hover {background-color: #d4ebff;}#sk-container-id-7 div.sk-parallel-item::after {content: \"\";width: 100%;border-bottom: 1px solid gray;flex-grow: 1;}#sk-container-id-7 div.sk-label:hover label.sk-toggleable__label {background-color: #d4ebff;}#sk-container-id-7 div.sk-serial::before {content: \"\";position: absolute;border-left: 1px solid gray;box-sizing: border-box;top: 0;bottom: 0;left: 50%;z-index: 0;}#sk-container-id-7 div.sk-serial {display: flex;flex-direction: column;align-items: center;background-color: white;padding-right: 0.2em;padding-left: 0.2em;position: relative;}#sk-container-id-7 div.sk-item {position: relative;z-index: 1;}#sk-container-id-7 div.sk-parallel {display: flex;align-items: stretch;justify-content: center;background-color: white;position: relative;}#sk-container-id-7 div.sk-item::before, #sk-container-id-7 div.sk-parallel-item::before {content: \"\";position: absolute;border-left: 1px solid gray;box-sizing: border-box;top: 0;bottom: 0;left: 50%;z-index: -1;}#sk-container-id-7 div.sk-parallel-item {display: flex;flex-direction: column;z-index: 1;position: relative;background-color: white;}#sk-container-id-7 div.sk-parallel-item:first-child::after {align-self: flex-end;width: 50%;}#sk-container-id-7 div.sk-parallel-item:last-child::after {align-self: flex-start;width: 50%;}#sk-container-id-7 div.sk-parallel-item:only-child::after {width: 0;}#sk-container-id-7 div.sk-dashed-wrapped {border: 1px dashed gray;margin: 0 0.4em 0.5em 0.4em;box-sizing: border-box;padding-bottom: 0.4em;background-color: white;}#sk-container-id-7 div.sk-label label {font-family: monospace;font-weight: bold;display: inline-block;line-height: 1.2em;}#sk-container-id-7 div.sk-label-container {text-align: center;}#sk-container-id-7 div.sk-container {/* jupyter's `normalize.less` sets `[hidden] { display: none; }` but bootstrap.min.css set `[hidden] { display: none !important; }` so we also need the `!important` here to be able to override the default hidden behavior on the sphinx rendered scikit-learn.org. See: https://github.com/scikit-learn/scikit-learn/issues/21755 */display: inline-block !important;position: relative;}#sk-container-id-7 div.sk-text-repr-fallback {display: none;}</style><div id=\"sk-container-id-7\" class=\"sk-top-container\"><div class=\"sk-text-repr-fallback\"><pre>Pipeline(steps=[(&#x27;clf&#x27;,\n",
              "                 XGBRegressor(base_score=None, booster=None, callbacks=None,\n",
              "                              colsample_bylevel=None, colsample_bynode=None,\n",
              "                              colsample_bytree=None, device=None,\n",
              "                              early_stopping_rounds=None,\n",
              "                              enable_categorical=False, eval_metric=None,\n",
              "                              feature_types=None, gamma=None, grow_policy=None,\n",
              "                              importance_type=None,\n",
              "                              interaction_constraints=None, learning_rate=None,\n",
              "                              max_bin=None, max_cat_threshold=None,\n",
              "                              max_cat_to_onehot=None, max_delta_step=None,\n",
              "                              max_depth=None, max_leaves=None,\n",
              "                              min_child_weight=None, missing=nan,\n",
              "                              monotone_constraints=None, multi_strategy=None,\n",
              "                              n_estimators=None, n_jobs=None,\n",
              "                              num_parallel_tree=None, random_state=8, ...))])</pre><b>In a Jupyter environment, please rerun this cell to show the HTML representation or trust the notebook. <br />On GitHub, the HTML representation is unable to render, please try loading this page with nbviewer.org.</b></div><div class=\"sk-container\" hidden><div class=\"sk-item sk-dashed-wrapped\"><div class=\"sk-label-container\"><div class=\"sk-label sk-toggleable\"><input class=\"sk-toggleable__control sk-hidden--visually\" id=\"sk-estimator-id-15\" type=\"checkbox\" ><label for=\"sk-estimator-id-15\" class=\"sk-toggleable__label sk-toggleable__label-arrow\">Pipeline</label><div class=\"sk-toggleable__content\"><pre>Pipeline(steps=[(&#x27;clf&#x27;,\n",
              "                 XGBRegressor(base_score=None, booster=None, callbacks=None,\n",
              "                              colsample_bylevel=None, colsample_bynode=None,\n",
              "                              colsample_bytree=None, device=None,\n",
              "                              early_stopping_rounds=None,\n",
              "                              enable_categorical=False, eval_metric=None,\n",
              "                              feature_types=None, gamma=None, grow_policy=None,\n",
              "                              importance_type=None,\n",
              "                              interaction_constraints=None, learning_rate=None,\n",
              "                              max_bin=None, max_cat_threshold=None,\n",
              "                              max_cat_to_onehot=None, max_delta_step=None,\n",
              "                              max_depth=None, max_leaves=None,\n",
              "                              min_child_weight=None, missing=nan,\n",
              "                              monotone_constraints=None, multi_strategy=None,\n",
              "                              n_estimators=None, n_jobs=None,\n",
              "                              num_parallel_tree=None, random_state=8, ...))])</pre></div></div></div><div class=\"sk-serial\"><div class=\"sk-item\"><div class=\"sk-estimator sk-toggleable\"><input class=\"sk-toggleable__control sk-hidden--visually\" id=\"sk-estimator-id-16\" type=\"checkbox\" ><label for=\"sk-estimator-id-16\" class=\"sk-toggleable__label sk-toggleable__label-arrow\">XGBRegressor</label><div class=\"sk-toggleable__content\"><pre>XGBRegressor(base_score=None, booster=None, callbacks=None,\n",
              "             colsample_bylevel=None, colsample_bynode=None,\n",
              "             colsample_bytree=None, device=None, early_stopping_rounds=None,\n",
              "             enable_categorical=False, eval_metric=None, feature_types=None,\n",
              "             gamma=None, grow_policy=None, importance_type=None,\n",
              "             interaction_constraints=None, learning_rate=None, max_bin=None,\n",
              "             max_cat_threshold=None, max_cat_to_onehot=None,\n",
              "             max_delta_step=None, max_depth=None, max_leaves=None,\n",
              "             min_child_weight=None, missing=nan, monotone_constraints=None,\n",
              "             multi_strategy=None, n_estimators=None, n_jobs=None,\n",
              "             num_parallel_tree=None, random_state=8, ...)</pre></div></div></div></div></div></div></div>"
            ],
            "text/plain": [
              "Pipeline(steps=[('clf',\n",
              "                 XGBRegressor(base_score=None, booster=None, callbacks=None,\n",
              "                              colsample_bylevel=None, colsample_bynode=None,\n",
              "                              colsample_bytree=None, device=None,\n",
              "                              early_stopping_rounds=None,\n",
              "                              enable_categorical=False, eval_metric=None,\n",
              "                              feature_types=None, gamma=None, grow_policy=None,\n",
              "                              importance_type=None,\n",
              "                              interaction_constraints=None, learning_rate=None,\n",
              "                              max_bin=None, max_cat_threshold=None,\n",
              "                              max_cat_to_onehot=None, max_delta_step=None,\n",
              "                              max_depth=None, max_leaves=None,\n",
              "                              min_child_weight=None, missing=nan,\n",
              "                              monotone_constraints=None, multi_strategy=None,\n",
              "                              n_estimators=None, n_jobs=None,\n",
              "                              num_parallel_tree=None, random_state=8, ...))])"
            ]
          },
          "execution_count": 40,
          "metadata": {},
          "output_type": "execute_result"
        }
      ],
      "source": [
        "#Build a pipeline of training\n",
        "from sklearn.pipeline import Pipeline\n",
        "#from category_encoders.target_encoder import TargetEncoder\n",
        "from xgboost import XGBRegressor\n",
        "\n",
        "estimators = [\n",
        "    #('encoder', TargetEncoder()),\n",
        "    ('clf', XGBRegressor(random_state=8)) # can customize objective function with the objective parameter\n",
        "]\n",
        "pipe = Pipeline(steps=estimators)\n",
        "pipe"
      ]
    },
    {
      "cell_type": "code",
      "execution_count": 41,
      "metadata": {
        "colab": {
          "base_uri": "https://localhost:8080/"
        },
        "id": "mONaNC2wOd4k",
        "outputId": "5918c9d1-5f59-4f87-93d9-c83416c4044f"
      },
      "outputs": [
        {
          "name": "stdout",
          "output_type": "stream",
          "text": [
            "Requirement already satisfied: scikit-optimize in c:\\users\\david\\anaconda3\\envs\\dev\\lib\\site-packages (0.10.2)\n",
            "Requirement already satisfied: joblib>=0.11 in c:\\users\\david\\anaconda3\\envs\\dev\\lib\\site-packages (from scikit-optimize) (1.2.0)\n",
            "Requirement already satisfied: pyaml>=16.9 in c:\\users\\david\\anaconda3\\envs\\dev\\lib\\site-packages (from scikit-optimize) (24.7.0)\n",
            "Requirement already satisfied: numpy>=1.20.3 in c:\\users\\david\\anaconda3\\envs\\dev\\lib\\site-packages (from scikit-optimize) (1.26.4)\n",
            "Requirement already satisfied: scipy>=1.1.0 in c:\\users\\david\\anaconda3\\envs\\dev\\lib\\site-packages (from scikit-optimize) (1.11.4)\n",
            "Requirement already satisfied: scikit-learn>=1.0.0 in c:\\users\\david\\anaconda3\\envs\\dev\\lib\\site-packages (from scikit-optimize) (1.3.0)\n",
            "Requirement already satisfied: packaging>=21.3 in c:\\users\\david\\anaconda3\\envs\\dev\\lib\\site-packages (from scikit-optimize) (23.1)\n",
            "Requirement already satisfied: PyYAML in c:\\users\\david\\anaconda3\\envs\\dev\\lib\\site-packages (from pyaml>=16.9->scikit-optimize) (6.0.1)\n",
            "Requirement already satisfied: threadpoolctl>=2.0.0 in c:\\users\\david\\anaconda3\\envs\\dev\\lib\\site-packages (from scikit-learn>=1.0.0->scikit-optimize) (2.2.0)\n"
          ]
        }
      ],
      "source": [
        "!pip install scikit-optimize"
      ]
    },
    {
      "cell_type": "code",
      "execution_count": 42,
      "metadata": {
        "id": "xRj40Ij-Nmds"
      },
      "outputs": [],
      "source": [
        "#Set up hyperparameter tuning\n",
        "from skopt import BayesSearchCV\n",
        "from skopt.space import Real, Integer, Categorical\n",
        "\n",
        "search_space = {\n",
        "    'clf__n_estimators': Integer(500, 5000),\n",
        "    #'clf__booster': Categorical(['gbtree', 'gblinear', 'dart']),\n",
        "    #'clf__dart_normalized_type': Categorical(['tree', 'forest']),\n",
        "    #'clf__tree_method': Categorical(['auto', 'exact', 'approx', 'hist', 'gpu_hist']),\n",
        "    #'clf__min_child_weight': Real(0.1, 4, 10.0),\n",
        "    'clf__max_depth': Integer(3, 15),\n",
        "    'clf__learning_rate': Real(0.001, 1, prior='log-uniform'),\n",
        "    #'clf__subsample': Real(0.5, 1.0),\n",
        "    #'clf__colsample_bytree': Real(0.5, 1.0),\n",
        "    #'clf__colsample_bylevel': Real(0.5, 1.0),\n",
        "    #'clf__colsample_bynode' : Real(0.5, 1.0),\n",
        "    'clf__gamma': (0, 5),\n",
        "    'clf__lambda': (0.01, 10),\n",
        "    'clf__alpha': (0, 10)\n",
        "}\n",
        "\n",
        "opt = BayesSearchCV(pipe, search_space, cv=8, n_iter=20, scoring='r2', random_state=8)\n",
        "# in reality, you may consider setting cv and n_iter to higher values"
      ]
    },
    {
      "cell_type": "code",
      "execution_count": 44,
      "metadata": {
        "colab": {
          "base_uri": "https://localhost:8080/",
          "height": 118
        },
        "id": "3hnzxZMMPheA",
        "outputId": "1bb67a1b-1e78-46e6-9a69-a697604d241f"
      },
      "outputs": [
        {
          "data": {
            "text/html": [
              "<style>#sk-container-id-9 {color: black;}#sk-container-id-9 pre{padding: 0;}#sk-container-id-9 div.sk-toggleable {background-color: white;}#sk-container-id-9 label.sk-toggleable__label {cursor: pointer;display: block;width: 100%;margin-bottom: 0;padding: 0.3em;box-sizing: border-box;text-align: center;}#sk-container-id-9 label.sk-toggleable__label-arrow:before {content: \"▸\";float: left;margin-right: 0.25em;color: #696969;}#sk-container-id-9 label.sk-toggleable__label-arrow:hover:before {color: black;}#sk-container-id-9 div.sk-estimator:hover label.sk-toggleable__label-arrow:before {color: black;}#sk-container-id-9 div.sk-toggleable__content {max-height: 0;max-width: 0;overflow: hidden;text-align: left;background-color: #f0f8ff;}#sk-container-id-9 div.sk-toggleable__content pre {margin: 0.2em;color: black;border-radius: 0.25em;background-color: #f0f8ff;}#sk-container-id-9 input.sk-toggleable__control:checked~div.sk-toggleable__content {max-height: 200px;max-width: 100%;overflow: auto;}#sk-container-id-9 input.sk-toggleable__control:checked~label.sk-toggleable__label-arrow:before {content: \"▾\";}#sk-container-id-9 div.sk-estimator input.sk-toggleable__control:checked~label.sk-toggleable__label {background-color: #d4ebff;}#sk-container-id-9 div.sk-label input.sk-toggleable__control:checked~label.sk-toggleable__label {background-color: #d4ebff;}#sk-container-id-9 input.sk-hidden--visually {border: 0;clip: rect(1px 1px 1px 1px);clip: rect(1px, 1px, 1px, 1px);height: 1px;margin: -1px;overflow: hidden;padding: 0;position: absolute;width: 1px;}#sk-container-id-9 div.sk-estimator {font-family: monospace;background-color: #f0f8ff;border: 1px dotted black;border-radius: 0.25em;box-sizing: border-box;margin-bottom: 0.5em;}#sk-container-id-9 div.sk-estimator:hover {background-color: #d4ebff;}#sk-container-id-9 div.sk-parallel-item::after {content: \"\";width: 100%;border-bottom: 1px solid gray;flex-grow: 1;}#sk-container-id-9 div.sk-label:hover label.sk-toggleable__label {background-color: #d4ebff;}#sk-container-id-9 div.sk-serial::before {content: \"\";position: absolute;border-left: 1px solid gray;box-sizing: border-box;top: 0;bottom: 0;left: 50%;z-index: 0;}#sk-container-id-9 div.sk-serial {display: flex;flex-direction: column;align-items: center;background-color: white;padding-right: 0.2em;padding-left: 0.2em;position: relative;}#sk-container-id-9 div.sk-item {position: relative;z-index: 1;}#sk-container-id-9 div.sk-parallel {display: flex;align-items: stretch;justify-content: center;background-color: white;position: relative;}#sk-container-id-9 div.sk-item::before, #sk-container-id-9 div.sk-parallel-item::before {content: \"\";position: absolute;border-left: 1px solid gray;box-sizing: border-box;top: 0;bottom: 0;left: 50%;z-index: -1;}#sk-container-id-9 div.sk-parallel-item {display: flex;flex-direction: column;z-index: 1;position: relative;background-color: white;}#sk-container-id-9 div.sk-parallel-item:first-child::after {align-self: flex-end;width: 50%;}#sk-container-id-9 div.sk-parallel-item:last-child::after {align-self: flex-start;width: 50%;}#sk-container-id-9 div.sk-parallel-item:only-child::after {width: 0;}#sk-container-id-9 div.sk-dashed-wrapped {border: 1px dashed gray;margin: 0 0.4em 0.5em 0.4em;box-sizing: border-box;padding-bottom: 0.4em;background-color: white;}#sk-container-id-9 div.sk-label label {font-family: monospace;font-weight: bold;display: inline-block;line-height: 1.2em;}#sk-container-id-9 div.sk-label-container {text-align: center;}#sk-container-id-9 div.sk-container {/* jupyter's `normalize.less` sets `[hidden] { display: none; }` but bootstrap.min.css set `[hidden] { display: none !important; }` so we also need the `!important` here to be able to override the default hidden behavior on the sphinx rendered scikit-learn.org. See: https://github.com/scikit-learn/scikit-learn/issues/21755 */display: inline-block !important;position: relative;}#sk-container-id-9 div.sk-text-repr-fallback {display: none;}</style><div id=\"sk-container-id-9\" class=\"sk-top-container\"><div class=\"sk-text-repr-fallback\"><pre>BayesSearchCV(cv=8,\n",
              "              estimator=Pipeline(steps=[(&#x27;clf&#x27;,\n",
              "                                         XGBRegressor(base_score=None,\n",
              "                                                      booster=None,\n",
              "                                                      callbacks=None,\n",
              "                                                      colsample_bylevel=None,\n",
              "                                                      colsample_bynode=None,\n",
              "                                                      colsample_bytree=None,\n",
              "                                                      device=None,\n",
              "                                                      early_stopping_rounds=None,\n",
              "                                                      enable_categorical=False,\n",
              "                                                      eval_metric=None,\n",
              "                                                      feature_types=None,\n",
              "                                                      gamma=None,\n",
              "                                                      grow_policy=None,\n",
              "                                                      importance_type=None,\n",
              "                                                      interaction_constraints=N...\n",
              "              n_iter=20, random_state=8, scoring=&#x27;r2&#x27;,\n",
              "              search_spaces={&#x27;clf__alpha&#x27;: (0, 10),\n",
              "                             &#x27;clf__colsample_bylevel&#x27;: Real(low=0.5, high=1.0, prior=&#x27;uniform&#x27;, transform=&#x27;normalize&#x27;),\n",
              "                             &#x27;clf__colsample_bynode&#x27;: Real(low=0.5, high=1.0, prior=&#x27;uniform&#x27;, transform=&#x27;normalize&#x27;),\n",
              "                             &#x27;clf__colsample_bytree&#x27;: Real(low=0.5, high=1.0, prior=&#x27;uniform&#x27;, transform=&#x27;normalize&#x27;),\n",
              "                             &#x27;clf__gamma&#x27;: (0, 5), &#x27;clf__lambda&#x27;: (0.01, 10)})</pre><b>In a Jupyter environment, please rerun this cell to show the HTML representation or trust the notebook. <br />On GitHub, the HTML representation is unable to render, please try loading this page with nbviewer.org.</b></div><div class=\"sk-container\" hidden><div class=\"sk-item sk-dashed-wrapped\"><div class=\"sk-label-container\"><div class=\"sk-label sk-toggleable\"><input class=\"sk-toggleable__control sk-hidden--visually\" id=\"sk-estimator-id-20\" type=\"checkbox\" ><label for=\"sk-estimator-id-20\" class=\"sk-toggleable__label sk-toggleable__label-arrow\">BayesSearchCV</label><div class=\"sk-toggleable__content\"><pre>BayesSearchCV(cv=8,\n",
              "              estimator=Pipeline(steps=[(&#x27;clf&#x27;,\n",
              "                                         XGBRegressor(base_score=None,\n",
              "                                                      booster=None,\n",
              "                                                      callbacks=None,\n",
              "                                                      colsample_bylevel=None,\n",
              "                                                      colsample_bynode=None,\n",
              "                                                      colsample_bytree=None,\n",
              "                                                      device=None,\n",
              "                                                      early_stopping_rounds=None,\n",
              "                                                      enable_categorical=False,\n",
              "                                                      eval_metric=None,\n",
              "                                                      feature_types=None,\n",
              "                                                      gamma=None,\n",
              "                                                      grow_policy=None,\n",
              "                                                      importance_type=None,\n",
              "                                                      interaction_constraints=N...\n",
              "              n_iter=20, random_state=8, scoring=&#x27;r2&#x27;,\n",
              "              search_spaces={&#x27;clf__alpha&#x27;: (0, 10),\n",
              "                             &#x27;clf__colsample_bylevel&#x27;: Real(low=0.5, high=1.0, prior=&#x27;uniform&#x27;, transform=&#x27;normalize&#x27;),\n",
              "                             &#x27;clf__colsample_bynode&#x27;: Real(low=0.5, high=1.0, prior=&#x27;uniform&#x27;, transform=&#x27;normalize&#x27;),\n",
              "                             &#x27;clf__colsample_bytree&#x27;: Real(low=0.5, high=1.0, prior=&#x27;uniform&#x27;, transform=&#x27;normalize&#x27;),\n",
              "                             &#x27;clf__gamma&#x27;: (0, 5), &#x27;clf__lambda&#x27;: (0.01, 10)})</pre></div></div></div><div class=\"sk-parallel\"><div class=\"sk-parallel-item\"><div class=\"sk-item\"><div class=\"sk-label-container\"><div class=\"sk-label sk-toggleable\"><input class=\"sk-toggleable__control sk-hidden--visually\" id=\"sk-estimator-id-21\" type=\"checkbox\" ><label for=\"sk-estimator-id-21\" class=\"sk-toggleable__label sk-toggleable__label-arrow\">estimator: Pipeline</label><div class=\"sk-toggleable__content\"><pre>Pipeline(steps=[(&#x27;clf&#x27;,\n",
              "                 XGBRegressor(base_score=None, booster=None, callbacks=None,\n",
              "                              colsample_bylevel=None, colsample_bynode=None,\n",
              "                              colsample_bytree=None, device=None,\n",
              "                              early_stopping_rounds=None,\n",
              "                              enable_categorical=False, eval_metric=None,\n",
              "                              feature_types=None, gamma=None, grow_policy=None,\n",
              "                              importance_type=None,\n",
              "                              interaction_constraints=None, learning_rate=None,\n",
              "                              max_bin=None, max_cat_threshold=None,\n",
              "                              max_cat_to_onehot=None, max_delta_step=None,\n",
              "                              max_depth=None, max_leaves=None,\n",
              "                              min_child_weight=None, missing=nan,\n",
              "                              monotone_constraints=None, multi_strategy=None,\n",
              "                              n_estimators=None, n_jobs=None,\n",
              "                              num_parallel_tree=None, random_state=8, ...))])</pre></div></div></div><div class=\"sk-serial\"><div class=\"sk-item\"><div class=\"sk-serial\"><div class=\"sk-item\"><div class=\"sk-estimator sk-toggleable\"><input class=\"sk-toggleable__control sk-hidden--visually\" id=\"sk-estimator-id-22\" type=\"checkbox\" ><label for=\"sk-estimator-id-22\" class=\"sk-toggleable__label sk-toggleable__label-arrow\">XGBRegressor</label><div class=\"sk-toggleable__content\"><pre>XGBRegressor(base_score=None, booster=None, callbacks=None,\n",
              "             colsample_bylevel=None, colsample_bynode=None,\n",
              "             colsample_bytree=None, device=None, early_stopping_rounds=None,\n",
              "             enable_categorical=False, eval_metric=None, feature_types=None,\n",
              "             gamma=None, grow_policy=None, importance_type=None,\n",
              "             interaction_constraints=None, learning_rate=None, max_bin=None,\n",
              "             max_cat_threshold=None, max_cat_to_onehot=None,\n",
              "             max_delta_step=None, max_depth=None, max_leaves=None,\n",
              "             min_child_weight=None, missing=nan, monotone_constraints=None,\n",
              "             multi_strategy=None, n_estimators=None, n_jobs=None,\n",
              "             num_parallel_tree=None, random_state=8, ...)</pre></div></div></div></div></div></div></div></div></div></div></div></div>"
            ],
            "text/plain": [
              "BayesSearchCV(cv=8,\n",
              "              estimator=Pipeline(steps=[('clf',\n",
              "                                         XGBRegressor(base_score=None,\n",
              "                                                      booster=None,\n",
              "                                                      callbacks=None,\n",
              "                                                      colsample_bylevel=None,\n",
              "                                                      colsample_bynode=None,\n",
              "                                                      colsample_bytree=None,\n",
              "                                                      device=None,\n",
              "                                                      early_stopping_rounds=None,\n",
              "                                                      enable_categorical=False,\n",
              "                                                      eval_metric=None,\n",
              "                                                      feature_types=None,\n",
              "                                                      gamma=None,\n",
              "                                                      grow_policy=None,\n",
              "                                                      importance_type=None,\n",
              "                                                      interaction_constraints=N...\n",
              "              n_iter=20, random_state=8, scoring='r2',\n",
              "              search_spaces={'clf__alpha': (0, 10),\n",
              "                             'clf__colsample_bylevel': Real(low=0.5, high=1.0, prior='uniform', transform='normalize'),\n",
              "                             'clf__colsample_bynode': Real(low=0.5, high=1.0, prior='uniform', transform='normalize'),\n",
              "                             'clf__colsample_bytree': Real(low=0.5, high=1.0, prior='uniform', transform='normalize'),\n",
              "                             'clf__gamma': (0, 5), 'clf__lambda': (0.01, 10)})"
            ]
          },
          "execution_count": 44,
          "metadata": {},
          "output_type": "execute_result"
        }
      ],
      "source": [
        "#Train the XGBoost model\n",
        "opt.fit(X_train, y_train)"
      ]
    },
    {
      "cell_type": "code",
      "execution_count": 45,
      "metadata": {
        "colab": {
          "base_uri": "https://localhost:8080/",
          "height": 92
        },
        "id": "E2blmQNoTB3i",
        "outputId": "fe779fdb-a8d0-4b4a-e419-473886bcc64c"
      },
      "outputs": [
        {
          "data": {
            "text/html": [
              "<style>#sk-container-id-10 {color: black;}#sk-container-id-10 pre{padding: 0;}#sk-container-id-10 div.sk-toggleable {background-color: white;}#sk-container-id-10 label.sk-toggleable__label {cursor: pointer;display: block;width: 100%;margin-bottom: 0;padding: 0.3em;box-sizing: border-box;text-align: center;}#sk-container-id-10 label.sk-toggleable__label-arrow:before {content: \"▸\";float: left;margin-right: 0.25em;color: #696969;}#sk-container-id-10 label.sk-toggleable__label-arrow:hover:before {color: black;}#sk-container-id-10 div.sk-estimator:hover label.sk-toggleable__label-arrow:before {color: black;}#sk-container-id-10 div.sk-toggleable__content {max-height: 0;max-width: 0;overflow: hidden;text-align: left;background-color: #f0f8ff;}#sk-container-id-10 div.sk-toggleable__content pre {margin: 0.2em;color: black;border-radius: 0.25em;background-color: #f0f8ff;}#sk-container-id-10 input.sk-toggleable__control:checked~div.sk-toggleable__content {max-height: 200px;max-width: 100%;overflow: auto;}#sk-container-id-10 input.sk-toggleable__control:checked~label.sk-toggleable__label-arrow:before {content: \"▾\";}#sk-container-id-10 div.sk-estimator input.sk-toggleable__control:checked~label.sk-toggleable__label {background-color: #d4ebff;}#sk-container-id-10 div.sk-label input.sk-toggleable__control:checked~label.sk-toggleable__label {background-color: #d4ebff;}#sk-container-id-10 input.sk-hidden--visually {border: 0;clip: rect(1px 1px 1px 1px);clip: rect(1px, 1px, 1px, 1px);height: 1px;margin: -1px;overflow: hidden;padding: 0;position: absolute;width: 1px;}#sk-container-id-10 div.sk-estimator {font-family: monospace;background-color: #f0f8ff;border: 1px dotted black;border-radius: 0.25em;box-sizing: border-box;margin-bottom: 0.5em;}#sk-container-id-10 div.sk-estimator:hover {background-color: #d4ebff;}#sk-container-id-10 div.sk-parallel-item::after {content: \"\";width: 100%;border-bottom: 1px solid gray;flex-grow: 1;}#sk-container-id-10 div.sk-label:hover label.sk-toggleable__label {background-color: #d4ebff;}#sk-container-id-10 div.sk-serial::before {content: \"\";position: absolute;border-left: 1px solid gray;box-sizing: border-box;top: 0;bottom: 0;left: 50%;z-index: 0;}#sk-container-id-10 div.sk-serial {display: flex;flex-direction: column;align-items: center;background-color: white;padding-right: 0.2em;padding-left: 0.2em;position: relative;}#sk-container-id-10 div.sk-item {position: relative;z-index: 1;}#sk-container-id-10 div.sk-parallel {display: flex;align-items: stretch;justify-content: center;background-color: white;position: relative;}#sk-container-id-10 div.sk-item::before, #sk-container-id-10 div.sk-parallel-item::before {content: \"\";position: absolute;border-left: 1px solid gray;box-sizing: border-box;top: 0;bottom: 0;left: 50%;z-index: -1;}#sk-container-id-10 div.sk-parallel-item {display: flex;flex-direction: column;z-index: 1;position: relative;background-color: white;}#sk-container-id-10 div.sk-parallel-item:first-child::after {align-self: flex-end;width: 50%;}#sk-container-id-10 div.sk-parallel-item:last-child::after {align-self: flex-start;width: 50%;}#sk-container-id-10 div.sk-parallel-item:only-child::after {width: 0;}#sk-container-id-10 div.sk-dashed-wrapped {border: 1px dashed gray;margin: 0 0.4em 0.5em 0.4em;box-sizing: border-box;padding-bottom: 0.4em;background-color: white;}#sk-container-id-10 div.sk-label label {font-family: monospace;font-weight: bold;display: inline-block;line-height: 1.2em;}#sk-container-id-10 div.sk-label-container {text-align: center;}#sk-container-id-10 div.sk-container {/* jupyter's `normalize.less` sets `[hidden] { display: none; }` but bootstrap.min.css set `[hidden] { display: none !important; }` so we also need the `!important` here to be able to override the default hidden behavior on the sphinx rendered scikit-learn.org. See: https://github.com/scikit-learn/scikit-learn/issues/21755 */display: inline-block !important;position: relative;}#sk-container-id-10 div.sk-text-repr-fallback {display: none;}</style><div id=\"sk-container-id-10\" class=\"sk-top-container\"><div class=\"sk-text-repr-fallback\"><pre>Pipeline(steps=[(&#x27;clf&#x27;,\n",
              "                 XGBRegressor(alpha=8, base_score=None, booster=None,\n",
              "                              callbacks=None, colsample_bylevel=1.0,\n",
              "                              colsample_bynode=1.0,\n",
              "                              colsample_bytree=0.653741238569946, device=None,\n",
              "                              early_stopping_rounds=None,\n",
              "                              enable_categorical=False, eval_metric=None,\n",
              "                              feature_types=None, gamma=3, grow_policy=None,\n",
              "                              importance_type=None,\n",
              "                              interaction_constraints=None,\n",
              "                              lambda=8.789738004465288, learning_rate=None,\n",
              "                              max_bin=None, max_cat_threshold=None,\n",
              "                              max_cat_to_onehot=None, max_delta_step=None,\n",
              "                              max_depth=None, max_leaves=None,\n",
              "                              min_child_weight=None, missing=nan,\n",
              "                              monotone_constraints=None, multi_strategy=None,\n",
              "                              n_estimators=None, n_jobs=None, ...))])</pre><b>In a Jupyter environment, please rerun this cell to show the HTML representation or trust the notebook. <br />On GitHub, the HTML representation is unable to render, please try loading this page with nbviewer.org.</b></div><div class=\"sk-container\" hidden><div class=\"sk-item sk-dashed-wrapped\"><div class=\"sk-label-container\"><div class=\"sk-label sk-toggleable\"><input class=\"sk-toggleable__control sk-hidden--visually\" id=\"sk-estimator-id-23\" type=\"checkbox\" ><label for=\"sk-estimator-id-23\" class=\"sk-toggleable__label sk-toggleable__label-arrow\">Pipeline</label><div class=\"sk-toggleable__content\"><pre>Pipeline(steps=[(&#x27;clf&#x27;,\n",
              "                 XGBRegressor(alpha=8, base_score=None, booster=None,\n",
              "                              callbacks=None, colsample_bylevel=1.0,\n",
              "                              colsample_bynode=1.0,\n",
              "                              colsample_bytree=0.653741238569946, device=None,\n",
              "                              early_stopping_rounds=None,\n",
              "                              enable_categorical=False, eval_metric=None,\n",
              "                              feature_types=None, gamma=3, grow_policy=None,\n",
              "                              importance_type=None,\n",
              "                              interaction_constraints=None,\n",
              "                              lambda=8.789738004465288, learning_rate=None,\n",
              "                              max_bin=None, max_cat_threshold=None,\n",
              "                              max_cat_to_onehot=None, max_delta_step=None,\n",
              "                              max_depth=None, max_leaves=None,\n",
              "                              min_child_weight=None, missing=nan,\n",
              "                              monotone_constraints=None, multi_strategy=None,\n",
              "                              n_estimators=None, n_jobs=None, ...))])</pre></div></div></div><div class=\"sk-serial\"><div class=\"sk-item\"><div class=\"sk-estimator sk-toggleable\"><input class=\"sk-toggleable__control sk-hidden--visually\" id=\"sk-estimator-id-24\" type=\"checkbox\" ><label for=\"sk-estimator-id-24\" class=\"sk-toggleable__label sk-toggleable__label-arrow\">XGBRegressor</label><div class=\"sk-toggleable__content\"><pre>XGBRegressor(alpha=8, base_score=None, booster=None, callbacks=None,\n",
              "             colsample_bylevel=1.0, colsample_bynode=1.0,\n",
              "             colsample_bytree=0.653741238569946, device=None,\n",
              "             early_stopping_rounds=None, enable_categorical=False,\n",
              "             eval_metric=None, feature_types=None, gamma=3, grow_policy=None,\n",
              "             importance_type=None, interaction_constraints=None,\n",
              "             lambda=8.789738004465288, learning_rate=None, max_bin=None,\n",
              "             max_cat_threshold=None, max_cat_to_onehot=None,\n",
              "             max_delta_step=None, max_depth=None, max_leaves=None,\n",
              "             min_child_weight=None, missing=nan, monotone_constraints=None,\n",
              "             multi_strategy=None, n_estimators=None, n_jobs=None, ...)</pre></div></div></div></div></div></div></div>"
            ],
            "text/plain": [
              "Pipeline(steps=[('clf',\n",
              "                 XGBRegressor(alpha=8, base_score=None, booster=None,\n",
              "                              callbacks=None, colsample_bylevel=1.0,\n",
              "                              colsample_bynode=1.0,\n",
              "                              colsample_bytree=0.653741238569946, device=None,\n",
              "                              early_stopping_rounds=None,\n",
              "                              enable_categorical=False, eval_metric=None,\n",
              "                              feature_types=None, gamma=3, grow_policy=None,\n",
              "                              importance_type=None,\n",
              "                              interaction_constraints=None,\n",
              "                              lambda=8.789738004465288, learning_rate=None,\n",
              "                              max_bin=None, max_cat_threshold=None,\n",
              "                              max_cat_to_onehot=None, max_delta_step=None,\n",
              "                              max_depth=None, max_leaves=None,\n",
              "                              min_child_weight=None, missing=nan,\n",
              "                              monotone_constraints=None, multi_strategy=None,\n",
              "                              n_estimators=None, n_jobs=None, ...))])"
            ]
          },
          "execution_count": 45,
          "metadata": {},
          "output_type": "execute_result"
        }
      ],
      "source": [
        "#Evaluate the model and make predictions\n",
        "best_model = opt.best_estimator_"
      ]
    },
    {
      "cell_type": "code",
      "execution_count": 46,
      "metadata": {
        "colab": {
          "base_uri": "https://localhost:8080/"
        },
        "id": "3NMRHZBmTe1m",
        "outputId": "58d3040f-24ec-4703-8ae9-442009cae718"
      },
      "outputs": [
        {
          "data": {
            "text/plain": [
              "0.8499746197312803"
            ]
          },
          "execution_count": 46,
          "metadata": {},
          "output_type": "execute_result"
        }
      ],
      "source": [
        "opt.best_score_"
      ]
    },
    {
      "cell_type": "code",
      "execution_count": 48,
      "metadata": {
        "colab": {
          "base_uri": "https://localhost:8080/"
        },
        "id": "zkyGf2T2TiNW",
        "outputId": "1c2cb6e0-cf53-4aaa-829f-146e33bc9d85"
      },
      "outputs": [
        {
          "data": {
            "text/plain": [
              "0.852878337660395"
            ]
          },
          "execution_count": 48,
          "metadata": {},
          "output_type": "execute_result"
        }
      ],
      "source": [
        "opt.score(X_test, y_test)"
      ]
    },
    {
      "cell_type": "code",
      "execution_count": null,
      "metadata": {
        "id": "rKfPF_04TnXB"
      },
      "outputs": [],
      "source": [
        "#y_pred = opt.predict(X_test)"
      ]
    },
    {
      "cell_type": "code",
      "execution_count": null,
      "metadata": {
        "id": "XUusgH0vkEM1"
      },
      "outputs": [],
      "source": [
        "#y_pred = y_pred.round().astype(int)"
      ]
    },
    {
      "cell_type": "code",
      "execution_count": 28,
      "metadata": {
        "id": "ye_aR2oPWavW"
      },
      "outputs": [],
      "source": [
        "#from sklearn.metrics import classification_report"
      ]
    },
    {
      "cell_type": "code",
      "execution_count": null,
      "metadata": {
        "id": "JHElFhIcVsIe"
      },
      "outputs": [],
      "source": [
        "#report = classification_report(y_test, y_pred)\n",
        "#print(\"Classification Report:\\n\")\n",
        "#print(report)"
      ]
    },
    {
      "cell_type": "code",
      "execution_count": null,
      "metadata": {},
      "outputs": [],
      "source": [
        "best_model.save('RE_XGBoost.json')"
      ]
    },
    {
      "cell_type": "markdown",
      "metadata": {
        "id": "by4CA31HPTcw"
      },
      "source": []
    }
  ],
  "metadata": {
    "accelerator": "TPU",
    "colab": {
      "gpuType": "V28",
      "provenance": []
    },
    "kernelspec": {
      "display_name": "Python 3 (ipykernel)",
      "language": "python",
      "name": "python3"
    },
    "language_info": {
      "codemirror_mode": {
        "name": "ipython",
        "version": 3
      },
      "file_extension": ".py",
      "mimetype": "text/x-python",
      "name": "python",
      "nbconvert_exporter": "python",
      "pygments_lexer": "ipython3",
      "version": "3.10.13"
    }
  },
  "nbformat": 4,
  "nbformat_minor": 0
}
